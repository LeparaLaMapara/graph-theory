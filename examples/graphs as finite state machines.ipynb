{
 "cells": [
  {
   "cell_type": "markdown",
   "metadata": {
    "collapsed": true
   },
   "source": [
    "# Finite State Machines \n",
    "\n",
    "Overview\n",
    "\n",
    "1. Fundamentals\n",
    "2. Turnstile\n",
    "3. Traffic Jam\n",
    "4. Sudoku\n",
    "\n",
    "But first we must be ready:"
   ]
  },
  {
   "cell_type": "code",
   "execution_count": 15,
   "metadata": {},
   "outputs": [
    {
     "name": "stdout",
     "output_type": "stream",
     "text": [
      "Note: you may need to restart the kernel to use updated packages.\n"
     ]
    }
   ],
   "source": [
    "import sys\n",
    "assert (sys.version_info.major, sys.version_info.minor) >= (3,7)\n",
    "%pip install graph-theory --upgrade --no-cache -q\n",
    "from graph import Graph"
   ]
  },
  {
   "cell_type": "markdown",
   "metadata": {},
   "source": [
    "## Fundamentals\n",
    "\n",
    "Nomenclature\n",
    "\n",
    "- A finite state machine is a mathematical model of computation. \n",
    "- The model is in exactly one state at any time.\n",
    "- The model can change from one state to another using predetermined paths.\n",
    "- All possible states is called the \"solution landscape\"\n",
    "\n"
   ]
  },
  {
   "cell_type": "markdown",
   "metadata": {},
   "source": [
    "# Turnstile\n",
    "\n",
    "![turnstile](images/turnstile.png)"
   ]
  },
  {
   "cell_type": "code",
   "execution_count": 16,
   "metadata": {},
   "outputs": [],
   "source": [
    "from graph.finite_state_machine import FiniteStateMachine\n",
    "\n",
    "locked, unlocked = 'locked', 'unlocked'  # states\n",
    "push, coin = 'push', 'coin'  # actions\n",
    "\n",
    "fsm = FiniteStateMachine()\n",
    "fsm.add_transition(locked, coin, unlocked)  # turnstile is locked. Put in coin to unlock.\n",
    "fsm.add_transition(unlocked, push, locked)  # turnstile is unlocked. Push the rotor to lock.\n",
    "fsm.add_transition(locked, push, locked)  # turnstile is locked. Pushing does not unlock.\n",
    "fsm.add_transition(unlocked, coin, unlocked)  # turnstile is unlocked. Adding more coins does not change state.\n",
    "\n",
    "fsm.set_initial_state(locked)  # set initial state."
   ]
  },
  {
   "cell_type": "code",
   "execution_count": 17,
   "metadata": {},
   "outputs": [
    {
     "data": {
      "text/plain": [
       "{'coin', 'push'}"
      ]
     },
     "execution_count": 17,
     "metadata": {},
     "output_type": "execute_result"
    }
   ],
   "source": [
    "# check options: pay and go\n",
    "set(fsm.options())"
   ]
  },
  {
   "cell_type": "code",
   "execution_count": 18,
   "metadata": {},
   "outputs": [
    {
     "data": {
      "text/plain": [
       "True"
      ]
     },
     "execution_count": 18,
     "metadata": {},
     "output_type": "execute_result"
    }
   ],
   "source": [
    "fsm.current_state == locked"
   ]
  },
  {
   "cell_type": "code",
   "execution_count": 19,
   "metadata": {},
   "outputs": [],
   "source": [
    "# now insert coin:\n",
    "fsm.next(action=coin)"
   ]
  },
  {
   "cell_type": "code",
   "execution_count": 20,
   "metadata": {},
   "outputs": [
    {
     "data": {
      "text/plain": [
       "{'coin', 'push'}"
      ]
     },
     "execution_count": 20,
     "metadata": {},
     "output_type": "execute_result"
    }
   ],
   "source": [
    "# check options:\n",
    "set(fsm.options())"
   ]
  },
  {
   "cell_type": "code",
   "execution_count": 21,
   "metadata": {},
   "outputs": [
    {
     "data": {
      "text/plain": [
       "True"
      ]
     },
     "execution_count": 21,
     "metadata": {},
     "output_type": "execute_result"
    }
   ],
   "source": [
    "fsm.current_state == unlocked"
   ]
  },
  {
   "cell_type": "code",
   "execution_count": 22,
   "metadata": {},
   "outputs": [
    {
     "data": {
      "text/plain": [
       "True"
      ]
     },
     "execution_count": 22,
     "metadata": {},
     "output_type": "execute_result"
    }
   ],
   "source": [
    "# ok it's unlocked - so we push:\n",
    "fsm.next(action=push)\n",
    "# and check if it locks behind us:\n",
    "fsm.current_state == locked"
   ]
  },
  {
   "cell_type": "markdown",
   "metadata": {},
   "source": [
    "# Traffic Jam\n",
    "\n",
    "We have a small intersection like this:\n",
    "\n",
    "![3-3 traffic jam](images/3-3-cart-traffic-jam_initial.png)\n",
    "\n",
    "The solution we would like to see looks like this:\n",
    "\n",
    "![3-3 traffic jan final](images/3-3-cart-traffic-jam.png)\n",
    "\n",
    "And here's the solution:\n",
    "\n",
    "![3-3 traffic jam solution](images/traffic_bi_directional.gif)\n",
    "\n",
    "Q: How did I get to that?\n",
    "\n",
    "A: 3 steps:\n",
    "\n",
    "1. Define the system as a FSM.\n",
    "2. Define the initial state\n",
    "3. Search through the solution landscape until the state resembles the final state.\n",
    "\n",
    "Let's start with the map:\n",
    "\n",
    "![tjs-map](images/tjs-map.png)"
   ]
  },
  {
   "cell_type": "code",
   "execution_count": 23,
   "metadata": {},
   "outputs": [],
   "source": [
    "g = Graph()\n",
    "edges = [(1,2),(2,3),(2,4)]\n",
    "for edge in edges:\n",
    "    g.add_edge(*edge, bidirectional=True)"
   ]
  },
  {
   "cell_type": "markdown",
   "metadata": {},
   "source": [
    "Next I add the load\n",
    "\n",
    "![tjs with pug](images/tjs-map-pugs.png)"
   ]
  },
  {
   "cell_type": "code",
   "execution_count": 24,
   "metadata": {},
   "outputs": [],
   "source": [
    "loads = [\n",
    "    {'id':'red', 'start': 1, 'ends': 3}, \n",
    "    {'id': 'blue', 'start': 3, 'ends': 1}\n",
    "]"
   ]
  },
  {
   "cell_type": "code",
   "execution_count": 25,
   "metadata": {},
   "outputs": [],
   "source": [
    "from graph.traffic_scheduling_problem import jam_solver"
   ]
  },
  {
   "cell_type": "code",
   "execution_count": 26,
   "metadata": {},
   "outputs": [
    {
     "name": "stdout",
     "output_type": "stream",
     "text": [
      "queue exhausted\n"
     ]
    }
   ],
   "source": [
    "solution = jam_solver(g,loads)"
   ]
  },
  {
   "cell_type": "code",
   "execution_count": 27,
   "metadata": {},
   "outputs": [
    {
     "data": {
      "text/plain": [
       "[{'red': (1, 2)},\n",
       " {'red': (2, 4), 'blue': (3, 2)},\n",
       " {'blue': (2, 1), 'red': (4, 2)},\n",
       " {'red': (2, 3)}]"
      ]
     },
     "execution_count": 27,
     "metadata": {},
     "output_type": "execute_result"
    }
   ],
   "source": [
    "solution"
   ]
  },
  {
   "cell_type": "code",
   "execution_count": 28,
   "metadata": {},
   "outputs": [
    {
     "name": "stdout",
     "output_type": "stream",
     "text": [
      "red moves from 1 to 2\n",
      "red moves from 2 to 4\n",
      "blue moves from 3 to 2\n",
      "blue moves from 2 to 1\n",
      "red moves from 4 to 2\n",
      "red moves from 2 to 3\n"
     ]
    }
   ],
   "source": [
    "# in plain english:\n",
    "for move in solution:\n",
    "    for color,(start,end) in move.items():\n",
    "        print(f\"{color} moves from {start} to {end}\")"
   ]
  },
  {
   "cell_type": "markdown",
   "metadata": {},
   "source": [
    "So what kind of state machine is the traffic jam solver using?\n",
    "\n",
    "![tjs](images/3-3-tree-of-states.png)\n",
    "\n",
    "Making a deep-copy of a state machine may be easy, but will quick consume a terrible amount of memory.\n",
    "\n",
    "It's far better to use a graph."
   ]
  },
  {
   "cell_type": "code",
   "execution_count": 29,
   "metadata": {},
   "outputs": [],
   "source": [
    "state_0 = ((1, 'red'), (2, None), (3, 'blue'), (4, None))\n",
    "state_1 = ((1, None), (2, 'red'), (3, 'blue'), (4, None))\n",
    "state_2 = ((1, 'red'), (2, 'blue'), (3, None), (4, None))\n",
    "\n",
    "fsm_graph = Graph()\n",
    "fsm_graph.add_edge(state_0, state_1)\n",
    "fsm_graph.add_edge(state_0, state_2)"
   ]
  },
  {
   "cell_type": "markdown",
   "metadata": {},
   "source": [
    "The search now becomes \"make a change\", check if it exists in the graph and add it to the graph. However the state definition contains a lot of Nones that don't really add much.\n",
    "\n",
    "Suggestion: Let's just drop that information.\n",
    "\n",
    "New graph:"
   ]
  },
  {
   "cell_type": "code",
   "execution_count": 30,
   "metadata": {},
   "outputs": [],
   "source": [
    "state_0 = ((1, 'red'), (3, 'blue'))\n",
    "state_1 = ((2, 'red'), (3, 'blue'))\n",
    "state_2 = ((1, 'red'), (2, 'blue'))\n",
    "\n",
    "fsm_graph = Graph()\n",
    "fsm_graph.add_edge(state_0, state_1)\n",
    "fsm_graph.add_edge(state_0, state_2)"
   ]
  },
  {
   "cell_type": "markdown",
   "metadata": {},
   "source": [
    "That's nicer to read.\n",
    "\n",
    "Let's make a solver for that:"
   ]
  },
  {
   "cell_type": "code",
   "execution_count": 32,
   "metadata": {},
   "outputs": [],
   "source": [
    "# we need the \"map\" from earlier:\n",
    "the_map = Graph()\n",
    "edges = [(1,2),(2,3),(2,4)]\n",
    "for edge in edges:\n",
    "    the_map.add_edge(*edge, bidirectional=True)\n",
    "\n",
    "# we need the \"frontier\"\n",
    "job_queue = [state_1, state_2]\n",
    "\n",
    "# we need a \"final state\"\n",
    "final_state = tuple(sorted([(3,'red'), (1,'blue')]))\n",
    "\n",
    "# we need a search\n",
    "while job_queue:\n",
    "    state = job_queue.pop()\n",
    "    occupied = {position for position,item in state}\n",
    "    for position, item in state:  # 'red' on position 2.\n",
    "        for option in the_map.nodes(from_node=position):  # positions {1,4}\n",
    "            if option in occupied:\n",
    "                continue  # skip it.\n",
    "            \n",
    "            new_state = tuple(sorted([(option, item)] + [(o,i) for o,i in state if i != item]))\n",
    "            \n",
    "            if new_state in fsm_graph:\n",
    "                continue  # we've already seen it.\n",
    "            \n",
    "            # we add the new state to be explored.\n",
    "            fsm_graph.add_edge(state, new_state)\n",
    "            job_queue.append(new_state)\n",
    "\n",
    "            if new_state == final_state:\n",
    "                break"
   ]
  },
  {
   "cell_type": "markdown",
   "metadata": {},
   "source": [
    "As the solver has made the finite state diagram for us (hurray!) we can have a look:"
   ]
  },
  {
   "cell_type": "code",
   "execution_count": 33,
   "metadata": {},
   "outputs": [
    {
     "data": {
      "text/plain": [
       "[((1, 'red'), (3, 'blue')),\n",
       " ((2, 'red'), (3, 'blue')),\n",
       " ((1, 'red'), (2, 'blue')),\n",
       " ((1, 'red'), (4, 'blue')),\n",
       " ((2, 'red'), (4, 'blue')),\n",
       " ((3, 'red'), (4, 'blue')),\n",
       " ((2, 'blue'), (3, 'red')),\n",
       " ((1, 'blue'), (3, 'red')),\n",
       " ((1, 'blue'), (2, 'red')),\n",
       " ((1, 'blue'), (4, 'red')),\n",
       " ((2, 'blue'), (4, 'red')),\n",
       " ((3, 'blue'), (4, 'red'))]"
      ]
     },
     "execution_count": 33,
     "metadata": {},
     "output_type": "execute_result"
    }
   ],
   "source": [
    "fsm_graph.nodes()"
   ]
  },
  {
   "cell_type": "markdown",
   "metadata": {},
   "source": [
    "To find the fewest moves to resolve the traffic jam, we can just ask the finite state diagram for the shortest path from the `initial state` to the `final state`:"
   ]
  },
  {
   "cell_type": "code",
   "execution_count": 34,
   "metadata": {},
   "outputs": [
    {
     "data": {
      "text/plain": [
       "(6,\n",
       " [((1, 'red'), (3, 'blue')),\n",
       "  ((1, 'red'), (2, 'blue')),\n",
       "  ((1, 'red'), (4, 'blue')),\n",
       "  ((2, 'red'), (4, 'blue')),\n",
       "  ((3, 'red'), (4, 'blue')),\n",
       "  ((2, 'blue'), (3, 'red')),\n",
       "  ((1, 'blue'), (3, 'red'))])"
      ]
     },
     "execution_count": 34,
     "metadata": {},
     "output_type": "execute_result"
    }
   ],
   "source": [
    "fsm_graph.shortest_path(state_0, final_state)"
   ]
  },
  {
   "cell_type": "markdown",
   "metadata": {},
   "source": [
    "And there you have it! The solution from earlier:\n",
    "\n",
    "```\n",
    "red moves from 1 to 2\n",
    "red moves from 2 to 4\n",
    "blue moves from 3 to 2\n",
    "blue moves from 2 to 1\n",
    "red moves from 4 to 2\n",
    "red moves from 2 to 3\n",
    "```\n",
    "\n",
    "and the solution above shows, state by state what has changed. Note that the two valid solutions interchangeable. "
   ]
  },
  {
   "cell_type": "markdown",
   "metadata": {},
   "source": [
    "# Sudoku\n",
    "\n",
    "Solving a sudoku is no different.\n",
    "\n"
   ]
  },
  {
   "cell_type": "code",
   "execution_count": null,
   "metadata": {},
   "outputs": [],
   "source": []
  }
 ],
 "metadata": {
  "kernelspec": {
   "display_name": "Python 3.10.5 ('graph310')",
   "language": "python",
   "name": "python3"
  },
  "language_info": {
   "codemirror_mode": {
    "name": "ipython",
    "version": 3
   },
   "file_extension": ".py",
   "mimetype": "text/x-python",
   "name": "python",
   "nbconvert_exporter": "python",
   "pygments_lexer": "ipython3",
   "version": "3.10.5"
  },
  "vscode": {
   "interpreter": {
    "hash": "26e418a870e8218a0038cc410eecceadac9265fed4dd23580d1f865f336a3180"
   }
  }
 },
 "nbformat": 4,
 "nbformat_minor": 0
}
