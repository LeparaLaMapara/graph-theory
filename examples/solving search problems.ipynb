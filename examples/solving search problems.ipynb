{
 "cells": [
  {
   "cell_type": "markdown",
   "metadata": {},
   "source": [
    "# Solving search problem.\n",
    "\n",
    "An introduction to different methods for findings paths, including:\n",
    "\n",
    "\tadjacency matrix\n",
    "\tBFS\n",
    "    find loops\n",
    "\tDFS\n",
    "      DFScan\n",
    "\tbidi-BFS\n",
    "\tTSP\n",
    "\t[critical path method]\n",
    "\t\n"
   ]
  },
  {
   "cell_type": "markdown",
   "metadata": {},
   "source": [
    "First things first. Let's load the imports for this chapter"
   ]
  },
  {
   "cell_type": "code",
   "execution_count": 1,
   "metadata": {},
   "outputs": [],
   "source": [
    "from graph import Graph"
   ]
  },
  {
   "cell_type": "markdown",
   "metadata": {},
   "source": [
    "## The adjacency matrix"
   ]
  },
  {
   "cell_type": "markdown",
   "metadata": {},
   "source": [
    "## Breadth First Search (BFS)\n",
    "\n",
    "### finding loops"
   ]
  },
  {
   "cell_type": "markdown",
   "metadata": {},
   "source": [
    "## Depth First Search (DFS)\n",
    "\n"
   ]
  },
  {
   "cell_type": "markdown",
   "metadata": {},
   "source": [
    "## Bidirectional breadth first search (BidiBFS)"
   ]
  },
  {
   "cell_type": "markdown",
   "metadata": {
    "jupyter": {
     "outputs_hidden": true
    }
   },
   "source": [
    "## Critical path method\n",
    "\n",
    "The [critical path method](https://en.wikipedia.org/wiki/Critical_path_method) (CPM), or critical path analysis (CPA), is an algorithm for scheduling a set of project activities.\n",
    "\n",
    "A critical path is determined by identifying the longest stretch of dependent activities and, commonly, measuring the time required to complete them from start to finish.\n",
    "\n",
    "A example is shown below where the critical path constitutes the path ABCDE:\n",
    "\n",
    "![w](images/cpm_wo_artificial_dependency.png)\n",
    "\n",
    "We can load these values into a Graph as follows:"
   ]
  },
  {
   "cell_type": "code",
   "execution_count": 2,
   "metadata": {},
   "outputs": [],
   "source": [
    "tasks = {'A': 10, 'B': 20, 'C': 5, 'D': 10, 'E': 20, 'F': 15, 'G': 5, 'H': 15}\n",
    "dependencies = [\n",
    "    ('A', 'B'),\n",
    "    ('B', 'C'),\n",
    "    ('C', 'D'),\n",
    "    ('D', 'E'),\n",
    "    ('A', 'F'),\n",
    "    ('F', 'G'),\n",
    "    ('G', 'E'),\n",
    "    ('A', 'H'),\n",
    "    ('H', 'E'),\n",
    "]\n",
    "\n",
    "g = Graph()\n",
    "for n, d in tasks.items():\n",
    "    g.add_node(n, obj=d)\n",
    "for n1, n2 in dependencies:\n",
    "    g.add_edge(n1, n2, 0)"
   ]
  },
  {
   "cell_type": "markdown",
   "metadata": {},
   "source": [
    "And we can calculate the schedule and the length of the critical path as:"
   ]
  },
  {
   "cell_type": "code",
   "execution_count": 3,
   "metadata": {},
   "outputs": [],
   "source": [
    "critical_path_length, schedule = g.critical_path()"
   ]
  },
  {
   "cell_type": "code",
   "execution_count": 4,
   "metadata": {},
   "outputs": [
    {
     "name": "stdout",
     "output_type": "stream",
     "text": [
      "The critical path has duration 65\n"
     ]
    }
   ],
   "source": [
    "print(\"The critical path has duration\", critical_path_length)"
   ]
  },
  {
   "cell_type": "code",
   "execution_count": 5,
   "metadata": {},
   "outputs": [
    {
     "name": "stdout",
     "output_type": "stream",
     "text": [
      "The tasks are:\n",
      "A Task('A', 10, 0, 0, 10, 10)\n",
      "B Task('B', 20, 10, 10, 30, 30)\n",
      "C Task('C', 5, 30, 30, 35, 35)\n",
      "D Task('D', 10, 35, 35, 45, 45)\n",
      "E Task('E', 20, 45, 45, 65, 65)\n",
      "F Task('F', 15, 10, 25, 25, 40)\n",
      "G Task('G', 5, 25, 40, 30, 45)\n",
      "H Task('H', 15, 10, 30, 25, 45)\n"
     ]
    }
   ],
   "source": [
    "print(\"The tasks are:\")\n",
    "from graph import Task\n",
    "for task_id, task in sorted(schedule.items()):\n",
    "    print(task_id, task)"
   ]
  },
  {
   "cell_type": "markdown",
   "metadata": {},
   "source": [
    "The properties of each `Task` are:\n",
    "\n",
    "- task id\n",
    "- duration \n",
    "- earliest start time\n",
    "- latest start time\n",
    "- earliest finish time\n",
    "- latest finish time.\n",
    "\n",
    "and the slack in the schedule can be calculated as:"
   ]
  },
  {
   "cell_type": "code",
   "execution_count": 6,
   "metadata": {},
   "outputs": [
    {
     "name": "stdout",
     "output_type": "stream",
     "text": [
      "The total slack in the schedule is 50\n"
     ]
    }
   ],
   "source": [
    "slack = sum(t.slack for t in schedule.values())\n",
    "\n",
    "print(\"The total slack in the schedule is\", slack)"
   ]
  },
  {
   "cell_type": "markdown",
   "metadata": {},
   "source": [
    "In cases where the tasks a commodities, such as CPU time, it can be convenient to minimise the number of conccurently active resources.\n",
    "\n",
    "As you may have noticed above in the diagram, the dependencies indicate that the graph has 3 paths at it's widest, whereby it would be logical to assign 3 CPUs to compute the tasks. However a little search can illustrate that it is possible to solve the tasks with 2 CPUs without extending the critical path.\n",
    "\n",
    "This can be done by inserting artificial dependencies. Here is an example:\n",
    "\n",
    "![wo](images/cpm_w_artificial_dependency.png)\n",
    "\n",
    "The method to minimise the slack, is conveniently called `critical_path_minimize_for_slack` and this is how it is used:"
   ]
  },
  {
   "cell_type": "code",
   "execution_count": 7,
   "metadata": {
    "collapsed": false,
    "jupyter": {
     "outputs_hidden": false
    },
    "pycharm": {
     "name": "#%%\n"
    }
   },
   "outputs": [],
   "source": [
    "g2 = g.critical_path_minimize_for_slack()"
   ]
  },
  {
   "cell_type": "markdown",
   "metadata": {},
   "source": [
    "We can verify that the critical path length is the same, and we can verify that this schedule does indeed have less slack:"
   ]
  },
  {
   "cell_type": "code",
   "execution_count": 8,
   "metadata": {},
   "outputs": [
    {
     "name": "stdout",
     "output_type": "stream",
     "text": [
      "The total slack in the schedule was 50 and is now 0\n"
     ]
    }
   ],
   "source": [
    "critical_path_length2, schedule2 = g2.critical_path()\n",
    "\n",
    "slack2 = sum(t.slack for t in schedule2.values())\n",
    "\n",
    "print(\"The total slack in the schedule was\", slack, \"and is now\", slack2)"
   ]
  },
  {
   "cell_type": "code",
   "execution_count": 9,
   "metadata": {},
   "outputs": [
    {
     "name": "stdout",
     "output_type": "stream",
     "text": [
      "The tasks remain the same, though with changed timings::\n",
      "A Task('A', 10, 0, 0, 10, 10)\n",
      "B Task('B', 20, 10, 10, 30, 30)\n",
      "C Task('C', 5, 30, 30, 35, 35)\n",
      "D Task('D', 10, 35, 35, 45, 45)\n",
      "E Task('E', 20, 45, 45, 65, 65)\n",
      "F Task('F', 15, 10, 25, 25, 40)\n",
      "G Task('G', 5, 25, 40, 30, 45)\n",
      "H Task('H', 15, 10, 30, 25, 45)\n"
     ]
    }
   ],
   "source": [
    "print(\"The tasks remain the same, though with changed timings::\")\n",
    "from graph import Task\n",
    "for task_id, task in sorted(schedule.items()):\n",
    "    print(task_id, task)"
   ]
  }
 ],
 "metadata": {
  "kernelspec": {
   "display_name": "Python 3",
   "language": "python",
   "name": "python3"
  },
  "language_info": {
   "codemirror_mode": {
    "name": "ipython",
    "version": 3
   },
   "file_extension": ".py",
   "mimetype": "text/x-python",
   "name": "python",
   "nbconvert_exporter": "python",
   "pygments_lexer": "ipython3",
   "version": "3.8.5"
  }
 },
 "nbformat": 4,
 "nbformat_minor": 4
}
