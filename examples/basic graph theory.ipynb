{
 "cells": [
  {
   "cell_type": "markdown",
   "metadata": {
    "pycharm": {
     "name": "#%% md\n"
    }
   },
   "source": [
    "# Introduction to Graph-theory\n",
    "\n",
    "[Graph-theory](https://en.wikipedia.org/wiki/Graph_theory) is the study of graphs,\n",
    "which are mathematical structures used to model pairwise relations between objects.\n",
    "\n",
    "Graphs are among the most ubiquitous models of both natural and human-made structures.\n",
    "They can model many types of relations and process dynamics in physical, biological\n",
    "and social systems. In computer science, they can represent networks of communication,\n",
    "data organization, computational devices, the flow of computation, etc.\n",
    "Graphs are one of the principal objects of study in\n",
    "[discrete mathematics](https://en.wikipedia.org/wiki/Discrete_mathematics).\n",
    "\n",
    "![6 nodes](images/6nodes.png)\n",
    "\n",
    "| used name | description | alias | syntax |\n",
    "|---|---|---|---|\n",
    "| **node** | an intersection of edges | node, vertice, point | `g.add_node('x')` |\n",
    "| **edge** | the line that connects intersections | edge, line, link | `g.add_edge('a','b')`|\n",
    "\n",
    "A directed graph is a graph in which edges have orientations (e.g. edge node from,to node).\n",
    "In graph-theory all edges have orientation. We declare this in Python using the following syntax:"
   ]
  },
  {
   "cell_type": "code",
   "execution_count": 1,
   "metadata": {
    "collapsed": false,
    "jupyter": {
     "outputs_hidden": false
    },
    "pycharm": {
     "name": "#%%\n"
    }
   },
   "outputs": [],
   "source": [
    "from graph import Graph\n",
    "\n",
    "g = Graph()\n",
    "g.add_node('A')\n",
    "g.add_node('B')\n",
    "g.add_edge('A', 'B', value=4)"
   ]
  },
  {
   "cell_type": "markdown",
   "metadata": {
    "pycharm": {
     "name": "#%% md\n"
    }
   },
   "source": [
    "Technically seen it is not necessary to add the nodes first. You can just write\n",
    "`g.add_edge('A', 'B')` and the Graph library will detect that the nodes haven't\n",
    "been created and add them quietly.\n",
    "\n",
    "To view the edges or nodes, use:"
   ]
  },
  {
   "cell_type": "code",
   "execution_count": 2,
   "metadata": {
    "collapsed": false,
    "jupyter": {
     "outputs_hidden": false
    },
    "pycharm": {
     "name": "#%%\n"
    }
   },
   "outputs": [
    {
     "data": {
      "text/plain": [
       "[('A', 'B', 4)]"
      ]
     },
     "execution_count": 2,
     "metadata": {},
     "output_type": "execute_result"
    }
   ],
   "source": [
    "g.edges()"
   ]
  },
  {
   "cell_type": "code",
   "execution_count": 3,
   "metadata": {
    "collapsed": false,
    "jupyter": {
     "outputs_hidden": false
    },
    "pycharm": {
     "name": "#%%\n"
    }
   },
   "outputs": [
    {
     "data": {
      "text/plain": [
       "['A', 'B']"
      ]
     },
     "execution_count": 3,
     "metadata": {},
     "output_type": "execute_result"
    }
   ],
   "source": [
    "g.nodes()"
   ]
  },
  {
   "cell_type": "markdown",
   "metadata": {
    "pycharm": {
     "name": "#%% md\n"
    }
   },
   "source": [
    "If you need to update the value on the edge just use `g.add_edge('A','B', value=10)` again.\n",
    "The edge works like a dictionary, where `'A','B'` is the key and value `10` is the value.\n",
    "\n",
    "In some cases it is not required for the graph to be directed. Mathematicians call this undirected.\n",
    "In Python the mantra is *explicit is better than implicit*, so in graph-theory we omit\n",
    "the value explicitly when adding edges and add it as bidirectional:  \n",
    "`g.add_edge('A','B', bidirectional=True)`\n",
    "\n",
    "If you need an undirected ***weighted graph*** you can add the value as weight:  \n",
    "`g.add_edge('A','B', value=4, bidirectional=True)`\n",
    "\n",
    "In other cases multiple edges between nodes are required. Graph-theory allows this using\n",
    "dummy nodes. Here's an example:"
   ]
  },
  {
   "cell_type": "code",
   "execution_count": 4,
   "metadata": {
    "collapsed": false,
    "jupyter": {
     "outputs_hidden": false
    },
    "pycharm": {
     "name": "#%%\n"
    }
   },
   "outputs": [],
   "source": [
    "from graph import Graph\n",
    "\n",
    "g = Graph()\n",
    "g.add_edge('A', 'B', value=4)  # a direct edge\n",
    "g.add_edge('A', 'ab', value=2)  # dummy edge from A to dummy node ab\n",
    "g.add_edge('ab', 'B', value=2)   # dummy edge from dummy node ab to B"
   ]
  },
  {
   "cell_type": "markdown",
   "metadata": {
    "pycharm": {
     "name": "#%% md\n"
    }
   },
   "source": [
    "Creating these dummy nodes by hand isn't very effective, so if you have a list of edges like this `L = [('A','B',4), ('A','B',3), ('A','B',2)]` it is good to know that nodes can be any hashable object, e.g. tuples, strings, numbers, ..."
   ]
  },
  {
   "cell_type": "code",
   "execution_count": 5,
   "metadata": {
    "collapsed": false,
    "jupyter": {
     "outputs_hidden": false
    },
    "pycharm": {
     "name": "#%%\n"
    }
   },
   "outputs": [
    {
     "name": "stdout",
     "output_type": "stream",
     "text": [
      "('A', 'B', 4)\n",
      "('A', ('A', 'B'), 2)\n",
      "(('A', 'B'), 'B', 2)\n"
     ]
    }
   ],
   "source": [
    "L = [('A','B',4), ('A','B',3), ('A','B',2)]\n",
    "g = Graph()\n",
    "for a,b,value in L:\n",
    "    if g.edge(a,b) is None:\n",
    "        g.add_edge(a,b,value)\n",
    "    else:\n",
    "        ab = a,b  # dummy node as tuple.\n",
    "        g.add_edge(a, ab, value)\n",
    "        g.add_edge(ab, b, value)\n",
    "\n",
    "for edge in g.edges():\n",
    "    print(edge)"
   ]
  },
  {
   "cell_type": "markdown",
   "metadata": {
    "pycharm": {
     "name": "#%% md\n"
    }
   },
   "source": [
    "The benefit of doing this is that most algorithms are simpler to implement than having to account\n",
    "for multiple edges and dummy nodes are explicit. You will always know your list of nodes and can\n",
    "hence exclude dummy nodes when reading through the list of nodes. For example, it would be silly\n",
    "to search for a dummy node when looking for the shortest path. Rather, it is an obvious pragmatic\n",
    "assumption that the algorithm will search for the shortest path between two meaningful points.\n",
    "\n",
    "Since we are at this, you can count on all algorithms being available directly on the `Graph` class,\n",
    "so that, for example the shortest path algorithm is available as:\n",
    "\n",
    "```\n",
    "g.shortest_path('A','B')\n",
    "```\n",
    "\n",
    "All the documentation is also available using the built-in help menu:"
   ]
  },
  {
   "cell_type": "code",
   "execution_count": 6,
   "metadata": {
    "collapsed": false,
    "jupyter": {
     "outputs_hidden": false
    },
    "pycharm": {
     "name": "#%%\n"
    }
   },
   "outputs": [
    {
     "name": "stdout",
     "output_type": "stream",
     "text": [
      "Help on function shortest_path in module graph:\n",
      "\n",
      "shortest_path(self, start, end, memoize=False)\n",
      "    :param start: start node\n",
      "    :param end: end node\n",
      "    :param memoize: boolean (stores paths in a cache for faster repeated lookup)\n",
      "    :return: distance, path as list\n",
      "\n"
     ]
    }
   ],
   "source": [
    "help(Graph.shortest_path)"
   ]
  },
  {
   "cell_type": "markdown",
   "metadata": {},
   "source": [
    "If you want a more detail description of what is going on, it is often helpful to directly to the specific function."
   ]
  },
  {
   "cell_type": "code",
   "execution_count": 8,
   "metadata": {},
   "outputs": [],
   "source": [
    "import inspect"
   ]
  },
  {
   "cell_type": "code",
   "execution_count": 10,
   "metadata": {},
   "outputs": [
    {
     "name": "stdout",
     "output_type": "stream",
     "text": [
      "    def shortest_path(self, start, end, memoize=False):\n",
      "        \"\"\"\n",
      "        :param start: start node\n",
      "        :param end: end node\n",
      "        :param memoize: boolean (stores paths in a cache for faster repeated lookup)\n",
      "        :return: distance, path as list\n",
      "        \"\"\"\n",
      "        if not memoize:\n",
      "            return shortest_path(graph=self, start=start, end=end)\n",
      "\n",
      "        if self._cache is None:\n",
      "            self._cache = ShortestPathCache(graph=self)\n",
      "        return self._cache.shortest_path(start, end)\n",
      "\n"
     ]
    }
   ],
   "source": [
    "print(inspect.getsource(Graph.shortest_path))"
   ]
  },
  {
   "cell_type": "markdown",
   "metadata": {},
   "source": [
    "Here you see that Graph wraps the function `shortest_path` and, should you choose to use the keyword `memoize=True` that it uses the class `ShortestPathCache`.\n",
    "\n",
    "These can be inspected again in the same way:"
   ]
  },
  {
   "cell_type": "code",
   "execution_count": 11,
   "metadata": {},
   "outputs": [
    {
     "name": "stdout",
     "output_type": "stream",
     "text": [
      "def shortest_path(graph, start, end):\n",
      "    \"\"\" single source shortest path algorithm.\n",
      "    :param graph: class Graph\n",
      "    :param start: start node\n",
      "    :param end: end node\n",
      "    :return: distance, path (as list),\n",
      "             returns float('inf'), [] if no path exists.\n",
      "    \"\"\"\n",
      "    q, visited, minimums = [(0, 0, start, ())], set(), {start: 0}\n",
      "    i = 1\n",
      "    while q:\n",
      "        (cost, _, v1, path) = heappop(q)\n",
      "        if v1 not in visited:\n",
      "            visited.add(v1)\n",
      "            path = (v1, path)\n",
      "\n",
      "            if v1 == end:  # exit criteria.\n",
      "                L = []\n",
      "                while path:\n",
      "                    v, path = path[0], path[1]\n",
      "                    L.append(v)\n",
      "                L.reverse()\n",
      "                return cost, L\n",
      "\n",
      "            for _, v2, dist in graph.edges(from_node=v1):\n",
      "                if v2 in visited:\n",
      "                    continue\n",
      "                prev = minimums.get(v2, None)\n",
      "                next_node = cost + dist\n",
      "                if prev is None or next_node < prev:\n",
      "                    minimums[v2] = next_node\n",
      "                    heappush(q, (next_node, i, v2, path))\n",
      "                    i += 1\n",
      "    return float(\"inf\"), []\n",
      "\n"
     ]
    }
   ],
   "source": [
    "from graph import shortest_path  # getting the function behind Graph.shortest_path\n",
    "print(inspect.getsource(shortest_path))  # viewing the code"
   ]
  },
  {
   "cell_type": "markdown",
   "metadata": {},
   "source": [
    "The code is very well annotated, so if the code doesn't explain itself, feel free to ask for a more elaborate example on the [github repo](https://github.com/root-11/graph-theory/issues).\n",
    "\n",
    "Graph-theory tries to be transparent about everything it does. As the readme on the frontpage says: \n",
    "\n",
    "> with code you can explain to your boss"
   ]
  },
  {
   "cell_type": "code",
   "execution_count": null,
   "metadata": {},
   "outputs": [],
   "source": []
  }
 ],
 "metadata": {
  "kernelspec": {
   "display_name": "Python 3",
   "language": "python",
   "name": "python3"
  },
  "language_info": {
   "codemirror_mode": {
    "name": "ipython",
    "version": 3
   },
   "file_extension": ".py",
   "mimetype": "text/x-python",
   "name": "python",
   "nbconvert_exporter": "python",
   "pygments_lexer": "ipython3",
   "version": "3.8.5"
  }
 },
 "nbformat": 4,
 "nbformat_minor": 4
}
